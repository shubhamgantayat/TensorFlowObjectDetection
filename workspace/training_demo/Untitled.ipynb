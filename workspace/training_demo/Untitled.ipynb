{
 "cells": [
  {
   "cell_type": "code",
   "execution_count": 1,
   "id": "d904f696",
   "metadata": {},
   "outputs": [
    {
     "data": {
      "text/plain": [
       "'C:\\\\Users\\\\ASUS\\\\PycharmProjects\\\\ObjectDetection\\\\workspace\\\\training_demo'"
      ]
     },
     "execution_count": 1,
     "metadata": {},
     "output_type": "execute_result"
    }
   ],
   "source": [
    "pwd"
   ]
  },
  {
   "cell_type": "code",
   "execution_count": 1,
   "id": "f666ae4b",
   "metadata": {},
   "outputs": [
    {
     "name": "stdout",
     "output_type": "stream",
     "text": [
      "Loading model...Done! Took 15.639317750930786 seconds\n"
     ]
    }
   ],
   "source": [
    "import time\n",
    "from object_detection.utils import label_map_util\n",
    "from object_detection.utils import visualization_utils as viz_utils\n",
    "import tensorflow as tf\n",
    "\n",
    "PATH_TO_SAVED_MODEL = \"exported-models/my_model/saved_model/\"\n",
    "\n",
    "print('Loading model...', end='')\n",
    "start_time = time.time()\n",
    "\n",
    "# Load saved model and build the detection function\n",
    "detect_fn = tf.saved_model.load(PATH_TO_SAVED_MODEL)\n",
    "\n",
    "end_time = time.time()\n",
    "elapsed_time = end_time - start_time\n",
    "print('Done! Took {} seconds'.format(elapsed_time))\n",
    "\n",
    "# %%\n",
    "# Load label map data (for plotting)\n",
    "# ~~~~~~~~~~~~~~~~~~~~~~~~~~~~~~~~~~~\n",
    "# Label maps correspond index numbers to category names, so that when our convolution network\n",
    "# predicts `5`, we know that this corresponds to `airplane`.  Here we use internal utility\n",
    "# functions, but anything that returns a dictionary mapping integers to appropriate string labels\n",
    "# would be fine.\n",
    "\n",
    "category_index = label_map_util.create_category_index_from_labelmap(\"annotations/label_map.pbtxt\",\n",
    "                                                                    use_display_name=True)"
   ]
  },
  {
   "cell_type": "code",
   "execution_count": 2,
   "id": "e37769f4",
   "metadata": {},
   "outputs": [
    {
     "name": "stdout",
     "output_type": "stream",
     "text": [
      "Running inference for images/test/005697_jpg.rf.2dde27a7e8e8e6b6c4151ce287406865.jpg... Done\n"
     ]
    }
   ],
   "source": [
    "\n",
    "\n",
    "# %%\n",
    "# Putting everything together\n",
    "# ~~~~~~~~~~~~~~~~~~~~~~~~~~~\n",
    "# The code shown below loads an image, runs it through the detection model and visualizes the\n",
    "# detection results, including the keypoints.\n",
    "#\n",
    "# Note that this will take a long time (several minutes) the first time you run this code due to\n",
    "# tf.function's trace-compilation --- on subsequent runs (e.g. on new images), things will be\n",
    "# faster.\n",
    "#\n",
    "# Here are some simple things to try out if you are curious:\n",
    "#\n",
    "# * Modify some of the input images and see if detection still works. Some simple things to try out here (just uncomment the relevant portions of code) include flipping the image horizontally, or converting to grayscale (note that we still expect the input image to have 3 channels).\n",
    "# * Print out `detections['detection_boxes']` and try to match the box locations to the boxes in the image.  Notice that coordinates are given in normalized form (i.e., in the interval [0, 1]).\n",
    "# * Set ``min_score_thresh`` to other values (between 0 and 1) to allow more detections in or to filter out more detections.\n",
    "import numpy as np\n",
    "from PIL import Image\n",
    "import matplotlib.pyplot as plt\n",
    "import warnings\n",
    "warnings.filterwarnings('ignore')   # Suppress Matplotlib warnings\n",
    "\n",
    "def load_image_into_numpy_array(path):\n",
    "    \"\"\"Load an image from file into a numpy array.\n",
    "\n",
    "    Puts image into numpy array to feed into tensorflow graph.\n",
    "    Note that by convention we put it into a numpy array with shape\n",
    "    (height, width, channels), where channels=3 for RGB.\n",
    "\n",
    "    Args:\n",
    "      path: the file path to the image\n",
    "\n",
    "    Returns:\n",
    "      uint8 numpy array with shape (img_height, img_width, 3)\n",
    "    \"\"\"\n",
    "    return np.array(Image.open(path))\n",
    "\n",
    "IMAGE_PATHS = [\"images/test/005697_jpg.rf.2dde27a7e8e8e6b6c4151ce287406865.jpg\"]\n",
    "for image_path in IMAGE_PATHS:\n",
    "\n",
    "    print('Running inference for {}... '.format(image_path), end='')\n",
    "\n",
    "    image_np = load_image_into_numpy_array(image_path)\n",
    "\n",
    "    # Things to try:\n",
    "    # Flip horizontally\n",
    "    # image_np = np.fliplr(image_np).copy()\n",
    "\n",
    "    # Convert image to grayscale\n",
    "    # image_np = np.tile(\n",
    "    #     np.mean(image_np, 2, keepdims=True), (1, 1, 3)).astype(np.uint8)\n",
    "\n",
    "    # The input needs to be a tensor, convert it using `tf.convert_to_tensor`.\n",
    "    input_tensor = tf.convert_to_tensor(image_np)\n",
    "    # The model expects a batch of images, so add an axis with `tf.newaxis`.\n",
    "    input_tensor = input_tensor[tf.newaxis, ...]\n",
    "\n",
    "    # input_tensor = np.expand_dims(image_np, 0)\n",
    "    detections = detect_fn(input_tensor)\n",
    "\n",
    "    # All outputs are batches tensors.\n",
    "    # Convert to numpy arrays, and take index [0] to remove the batch dimension.\n",
    "    # We're only interested in the first num_detections.\n",
    "    num_detections = int(detections.pop('num_detections'))\n",
    "    detections = {key: value[0, :num_detections].numpy()\n",
    "                   for key, value in detections.items()}\n",
    "    detections['num_detections'] = num_detections\n",
    "\n",
    "    # detection_classes should be ints.\n",
    "    detections['detection_classes'] = detections['detection_classes'].astype(np.int64)\n",
    "\n",
    "    image_np_with_detections = image_np.copy()\n",
    "\n",
    "    viz_utils.visualize_boxes_and_labels_on_image_array(\n",
    "          image_np_with_detections,\n",
    "          detections['detection_boxes'],\n",
    "          detections['detection_classes'],\n",
    "          detections['detection_scores'],\n",
    "          category_index,\n",
    "          use_normalized_coordinates=True,\n",
    "          max_boxes_to_draw=200,\n",
    "          min_score_thresh=.30,\n",
    "          agnostic_mode=False)\n",
    "\n",
    "    plt.figure()\n",
    "    plt.imshow(image_np_with_detections)\n",
    "    print('Done')\n",
    "plt.show()\n",
    "\n"
   ]
  },
  {
   "cell_type": "code",
   "execution_count": 3,
   "id": "8a09c242",
   "metadata": {},
   "outputs": [
    {
     "data": {
      "text/plain": [
       "array([ True,  True,  True,  True,  True,  True,  True,  True,  True,\n",
       "        True, False, False, False, False, False, False, False, False,\n",
       "       False, False, False, False, False, False, False, False, False,\n",
       "       False, False, False, False, False, False, False, False, False,\n",
       "       False, False, False, False, False, False, False, False, False,\n",
       "       False, False, False, False, False, False, False, False, False,\n",
       "       False, False, False, False, False, False, False, False, False,\n",
       "       False, False, False, False, False, False, False, False, False,\n",
       "       False, False, False, False, False, False, False, False, False,\n",
       "       False, False, False, False, False, False, False, False, False,\n",
       "       False, False, False, False, False, False, False, False, False,\n",
       "       False])"
      ]
     },
     "execution_count": 3,
     "metadata": {},
     "output_type": "execute_result"
    }
   ],
   "source": [
    "detections['detection_scores'] > 0.30"
   ]
  },
  {
   "cell_type": "code",
   "execution_count": 4,
   "id": "d0010a17",
   "metadata": {},
   "outputs": [
    {
     "data": {
      "text/plain": [
       "array([[0.23061638, 0.19146803, 0.3495945 , 0.2475982 ],\n",
       "       [0.2743924 , 0.07968281, 0.40632734, 0.15943505],\n",
       "       [0.30971873, 0.84320956, 0.41479433, 0.90063006],\n",
       "       [0.25444388, 0.4382939 , 0.37120777, 0.5017881 ],\n",
       "       [0.27961102, 0.58511657, 0.3848959 , 0.6402753 ],\n",
       "       [0.3203848 , 0.3712949 , 0.64430946, 0.5473875 ],\n",
       "       [0.42733425, 0.858601  , 0.5206759 , 0.9033233 ],\n",
       "       [0.19047338, 0.43198153, 0.36969876, 0.5253101 ],\n",
       "       [0.256676  , 0.43845764, 0.3695623 , 0.50123304],\n",
       "       [0.21400481, 0.57669085, 0.38628703, 0.65496284],\n",
       "       [0.25428638, 0.5824373 , 0.38259473, 0.6446905 ],\n",
       "       [0.2548258 , 0.6261557 , 0.8170928 , 0.9080908 ],\n",
       "       [0.30882868, 0.84100425, 0.41636375, 0.899645  ],\n",
       "       [0.23296782, 0.19030784, 0.35032353, 0.250798  ],\n",
       "       [0.2312946 , 0.57883376, 0.38912836, 0.6504634 ],\n",
       "       [0.4395481 , 0.8626361 , 0.5242481 , 0.9014684 ],\n",
       "       [0.23159063, 0.17659472, 0.3837303 , 0.25863996],\n",
       "       [0.16263995, 0.41382787, 0.36095217, 0.5482378 ],\n",
       "       [0.29604483, 0.8293168 , 0.4282248 , 0.9142787 ],\n",
       "       [0.4597354 , 0.03982953, 0.5683949 , 0.09378867],\n",
       "       [0.17691965, 0.55738276, 0.38331515, 0.666971  ],\n",
       "       [0.19964585, 0.42266408, 0.3709034 , 0.5149741 ],\n",
       "       [0.3005545 , 0.8259145 , 0.4445945 , 0.9069829 ],\n",
       "       [0.27576888, 0.07889442, 0.40401912, 0.15791193],\n",
       "       [0.06859313, 0.01352166, 0.4245618 , 0.22199285],\n",
       "       [0.13171403, 0.4029644 , 0.3854354 , 0.6191531 ],\n",
       "       [0.34793428, 0.38072902, 0.565199  , 0.53155226],\n",
       "       [0.24174811, 0.6117279 , 0.43290073, 0.70843893],\n",
       "       [0.23281576, 0.43707317, 0.38533378, 0.5153672 ],\n",
       "       [0.21929422, 0.03762752, 0.4169611 , 0.1700518 ],\n",
       "       [0.28346205, 0.07737191, 0.39560235, 0.13632615],\n",
       "       [0.26788267, 0.43880755, 0.36284676, 0.48498642],\n",
       "       [0.19060232, 0.39528614, 0.37138772, 0.50780284],\n",
       "       [0.34793428, 0.38072902, 0.565199  , 0.53155226],\n",
       "       [0.3326353 , 0.8408486 , 0.41471294, 0.88236445],\n",
       "       [0.27533364, 0.62882495, 0.46274877, 0.72084177],\n",
       "       [0.30972785, 0.85019773, 0.3926515 , 0.8919496 ],\n",
       "       [0.25884384, 0.45132092, 0.34979844, 0.49941328],\n",
       "       [0.18548056, 0.503349  , 0.78403676, 0.9097125 ],\n",
       "       [0.10638525, 0.37590262, 0.35441098, 0.51537555],\n",
       "       [0.14846711, 0.47327083, 0.40194142, 0.6778329 ],\n",
       "       [0.17598462, 0.55923957, 0.38281733, 0.6702737 ],\n",
       "       [0.26831573, 0.7137887 , 0.4843065 , 0.88814026],\n",
       "       [0.2789887 , 0.10430275, 0.39563295, 0.18608792],\n",
       "       [0.1930291 , 0.43522707, 0.4014426 , 0.58061326],\n",
       "       [0.23264658, 0.19762355, 0.31592554, 0.2402071 ],\n",
       "       [0.29100692, 0.57196486, 0.39898175, 0.6299944 ],\n",
       "       [0.17423916, 0.1849994 , 0.34495956, 0.26742   ],\n",
       "       [0.2793204 , 0.8450924 , 0.43960515, 0.95103157],\n",
       "       [0.2725479 , 0.79445094, 0.41635615, 0.9072539 ],\n",
       "       [0.42542362, 0.86702484, 0.5021268 , 0.90711886],\n",
       "       [0.24341202, 0.5119464 , 0.9824501 , 0.91421837],\n",
       "       [0.22610806, 0.19290388, 0.3169778 , 0.24542695],\n",
       "       [0.2596003 , 0.32995886, 0.993436  , 0.68948585],\n",
       "       [0.2583392 , 0.63064736, 0.40252998, 0.70291775],\n",
       "       [0.20777921, 0.18815456, 0.3566783 , 0.2630483 ],\n",
       "       [0.23482697, 0.35375953, 0.67560655, 0.60780287],\n",
       "       [0.45119452, 0.854477  , 0.5384536 , 0.9087197 ],\n",
       "       [0.25482637, 0.42248932, 0.4007064 , 0.5088142 ],\n",
       "       [0.27006885, 0.08894539, 0.3676547 , 0.1481824 ],\n",
       "       [0.48956132, 0.10922846, 0.5859635 , 0.1646775 ],\n",
       "       [0.27768642, 0.6705494 , 0.69416565, 0.9259099 ],\n",
       "       [0.05523163, 0.34772158, 0.73244786, 0.6890764 ],\n",
       "       [0.2854338 , 0.72855175, 0.44504538, 0.8943949 ],\n",
       "       [0.2118716 , 0.5973136 , 0.40324828, 0.6975463 ],\n",
       "       [0.01212832, 0.00368603, 0.42200482, 0.30568713],\n",
       "       [0.45460692, 0.86988235, 0.526647  , 0.9074415 ],\n",
       "       [0.32272896, 0.3702144 , 0.6474136 , 0.5471177 ],\n",
       "       [0.17870802, 0.44423392, 0.32600468, 0.53154254],\n",
       "       [0.2725479 , 0.79445094, 0.41635615, 0.9072539 ],\n",
       "       [0.27536374, 0.06760035, 0.44334453, 0.17111881],\n",
       "       [0.25473136, 0.7734961 , 0.46448243, 0.9512388 ],\n",
       "       [0.05527569, 0.12325355, 0.40041643, 0.30525735],\n",
       "       [0.25163642, 0.091705  , 0.42714176, 0.19495726],\n",
       "       [0.24675882, 0.18282482, 0.32829267, 0.25690904],\n",
       "       [0.48698413, 0.03971848, 0.5663878 , 0.07881211],\n",
       "       [0.45964006, 0.863579  , 0.5297318 , 0.9015576 ],\n",
       "       [0.27823937, 0.83066607, 0.42009944, 0.92170894],\n",
       "       [0.24501365, 0.40964484, 0.37707096, 0.4916169 ],\n",
       "       [0.0655228 , 0.3550512 , 0.3922071 , 0.5323891 ],\n",
       "       [0.24350613, 0.05553813, 0.411932  , 0.15788244],\n",
       "       [0.19953248, 0.5867164 , 0.34718844, 0.6709454 ],\n",
       "       [0.24863681, 0.18979403, 0.3462834 , 0.2331697 ],\n",
       "       [0.2988751 , 0.07903378, 0.38529086, 0.11685649],\n",
       "       [0.45119452, 0.854477  , 0.5384536 , 0.9087197 ],\n",
       "       [0.08335933, 0.        , 0.9166162 , 0.37572813],\n",
       "       [0.03958216, 0.20113271, 0.97531414, 0.91592187],\n",
       "       [0.30600893, 0.77207375, 0.5344157 , 0.9431299 ],\n",
       "       [0.51428795, 0.8867868 , 0.756199  , 0.9993967 ],\n",
       "       [0.3261974 , 0.5474661 , 0.41519547, 0.5962437 ],\n",
       "       [0.1275776 , 0.1671136 , 0.3678499 , 0.27232203],\n",
       "       [0.26394227, 0.7134279 , 0.58980644, 0.9546828 ],\n",
       "       [0.26733518, 0.06452809, 0.38569826, 0.14624056],\n",
       "       [0.29211938, 0.16000699, 0.48325378, 0.27452642],\n",
       "       [0.30749312, 0.34627578, 0.78754497, 0.54703605],\n",
       "       [0.25232157, 0.8307384 , 0.41269907, 0.9333149 ],\n",
       "       [0.27996087, 0.427662  , 0.37785423, 0.47878703],\n",
       "       [0.18931457, 0.13986804, 1.        , 0.58283097],\n",
       "       [0.3156848 , 0.8126045 , 0.44448346, 0.8862614 ],\n",
       "       [0.321954  , 0.84567285, 0.4675387 , 0.9146278 ]], dtype=float32)"
      ]
     },
     "execution_count": 4,
     "metadata": {},
     "output_type": "execute_result"
    }
   ],
   "source": [
    "detections[\"detection_boxes\"]"
   ]
  },
  {
   "cell_type": "code",
   "execution_count": 5,
   "id": "60b41629",
   "metadata": {},
   "outputs": [],
   "source": [
    "coordinates = detections[\"detection_boxes\"][detections['detection_scores'] > 0.30]"
   ]
  },
  {
   "cell_type": "code",
   "execution_count": 6,
   "id": "e5c5875b",
   "metadata": {},
   "outputs": [],
   "source": [
    "dw, dh, _ = image_np_with_detections.shape"
   ]
  },
  {
   "cell_type": "code",
   "execution_count": 7,
   "id": "12de2b22",
   "metadata": {},
   "outputs": [],
   "source": [
    "for i in coordinates:\n",
    "    i[0] = int(i[0] * dh)\n",
    "    i[1] = int(i[1] * dw)\n",
    "    i[2] = int(i[2] * dh)\n",
    "    i[3] = int(i[3] * dw)\n",
    "coordinates = coordinates.astype(np.int32)"
   ]
  },
  {
   "cell_type": "code",
   "execution_count": 8,
   "id": "664bf62f",
   "metadata": {},
   "outputs": [
    {
     "data": {
      "text/plain": [
       "array([[115,  63, 174,  82],\n",
       "       [137,  26, 203,  53],\n",
       "       [154, 280, 207, 299],\n",
       "       [127, 145, 185, 167],\n",
       "       [139, 194, 192, 213],\n",
       "       [160, 123, 322, 182],\n",
       "       [213, 285, 260, 300],\n",
       "       [ 95, 143, 184, 174],\n",
       "       [128, 146, 184, 166],\n",
       "       [107, 192, 193, 218]])"
      ]
     },
     "execution_count": 8,
     "metadata": {},
     "output_type": "execute_result"
    }
   ],
   "source": [
    "coordinates"
   ]
  },
  {
   "cell_type": "code",
   "execution_count": 9,
   "id": "8502e9bd",
   "metadata": {},
   "outputs": [
    {
     "data": {
      "text/plain": [
       "333"
      ]
     },
     "execution_count": 9,
     "metadata": {},
     "output_type": "execute_result"
    }
   ],
   "source": [
    "dw"
   ]
  },
  {
   "cell_type": "code",
   "execution_count": 10,
   "id": "782f4d47",
   "metadata": {},
   "outputs": [],
   "source": [
    "image_np_new = image_np[91:135, 39:79]"
   ]
  },
  {
   "cell_type": "code",
   "execution_count": 12,
   "id": "58e529c4",
   "metadata": {},
   "outputs": [
    {
     "data": {
      "text/plain": [
       "-1"
      ]
     },
     "execution_count": 12,
     "metadata": {},
     "output_type": "execute_result"
    }
   ],
   "source": [
    "import cv2\n",
    "def display_img(img, rgb=False):\n",
    "    while True:\n",
    "        if rgb:\n",
    "            new_img = cv2.cvtColor(img, cv2.COLOR_RGB2BGR)\n",
    "        else:\n",
    "            new_img = img\n",
    "        cv2.imshow(\"image\", new_img)\n",
    "        if cv2.waitKey(0) or 0xFF == 27:\n",
    "            cv2.destroyAllWindows()\n",
    "            return -1\n",
    "    return 0\n",
    "    \n",
    "display_img(image_np_new, rgb=True)"
   ]
  },
  {
   "cell_type": "code",
   "execution_count": 13,
   "id": "2a227ba7",
   "metadata": {},
   "outputs": [],
   "source": [
    "cap = cv2.VideoCapture(0)\n",
    "    \n",
    "while True:\n",
    "    ret, frame = cap.read()\n",
    "    cv2.imshow(\"frame\",frame)\n",
    "    \n",
    "    if cv2.waitKey(1) & 0xFF == 27:\n",
    "        break\n",
    "\n",
    "cap.release()\n",
    "cv2.destroyAllWindows()\n",
    "\n",
    "\n",
    "\n",
    "        "
   ]
  },
  {
   "cell_type": "code",
   "execution_count": null,
   "id": "611c844d",
   "metadata": {},
   "outputs": [],
   "source": [
    "vid = cv2.VideoCapture(0)\n",
    "  \n",
    "while(True):\n",
    "    ret, frame = vid.read()\n",
    "    image_np = cv2.cvtColor(frame, cv2.COLOR_BGR2RGB)\n",
    "\n",
    "    # Things to try:\n",
    "    # Flip horizontally\n",
    "    # image_np = np.fliplr(image_np).copy()\n",
    "\n",
    "    # Convert image to grayscale\n",
    "    # image_np = np.tile(\n",
    "    #     np.mean(image_np, 2, keepdims=True), (1, 1, 3)).astype(np.uint8)\n",
    "\n",
    "    # The input needs to be a tensor, convert it using `tf.convert_to_tensor`.\n",
    "    input_tensor = tf.convert_to_tensor(image_np)\n",
    "    # The model expects a batch of images, so add an axis with `tf.newaxis`.\n",
    "    input_tensor = input_tensor[tf.newaxis, ...]\n",
    "\n",
    "    # input_tensor = np.expand_dims(image_np, 0)\n",
    "    detections = detect_fn(input_tensor)\n",
    "\n",
    "    # All outputs are batches tensors.\n",
    "    # Convert to numpy arrays, and take index [0] to remove the batch dimension.\n",
    "    # We're only interested in the first num_detections.\n",
    "    num_detections = int(detections.pop('num_detections'))\n",
    "    detections = {key: value[0, :num_detections].numpy()\n",
    "                   for key, value in detections.items()}\n",
    "    detections['num_detections'] = num_detections\n",
    "\n",
    "    # detection_classes should be ints.\n",
    "    detections['detection_classes'] = detections['detection_classes'].astype(np.int64)\n",
    "\n",
    "    image_np_with_detections = image_np.copy()\n",
    "\n",
    "    viz_utils.visualize_boxes_and_labels_on_image_array(\n",
    "          image_np_with_detections,\n",
    "          detections['detection_boxes'],\n",
    "          detections['detection_classes'],\n",
    "          detections['detection_scores'],\n",
    "          category_index,\n",
    "          use_normalized_coordinates=True,\n",
    "          max_boxes_to_draw=200,\n",
    "          min_score_thresh=.30,\n",
    "          agnostic_mode=False)\n",
    "    new_img = cv2.cvtColor(image_np_with_detections, cv2.COLOR_RGB2BGR)\n",
    "    cv2.imshow('frame', new_img)\n",
    "    if cv2.waitKey(1) & 0xFF == ord('q'):\n",
    "        break\n",
    "        \n",
    "vid.release()\n",
    "cv2.destroyAllWindows()"
   ]
  },
  {
   "cell_type": "code",
   "execution_count": null,
   "id": "94122f81",
   "metadata": {},
   "outputs": [],
   "source": []
  }
 ],
 "metadata": {
  "kernelspec": {
   "display_name": "Python 3 (ipykernel)",
   "language": "python",
   "name": "python3"
  },
  "language_info": {
   "codemirror_mode": {
    "name": "ipython",
    "version": 3
   },
   "file_extension": ".py",
   "mimetype": "text/x-python",
   "name": "python",
   "nbconvert_exporter": "python",
   "pygments_lexer": "ipython3",
   "version": "3.7.13"
  }
 },
 "nbformat": 4,
 "nbformat_minor": 5
}
